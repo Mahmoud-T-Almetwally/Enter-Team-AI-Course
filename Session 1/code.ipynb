{
 "cells": [
  {
   "cell_type": "code",
   "execution_count": 12,
   "id": "c2ed954f",
   "metadata": {},
   "outputs": [
    {
     "name": "stdout",
     "output_type": "stream",
     "text": [
      "hello world\n"
     ]
    }
   ],
   "source": [
    "print(\"hello world\") # Running one cell doesn't run all the code. (Notice that the output is directly below not in console)"
   ]
  },
  {
   "cell_type": "code",
   "execution_count": 13,
   "id": "7401296e",
   "metadata": {},
   "outputs": [
    {
     "data": {
      "text/plain": [
       "2"
      ]
     },
     "execution_count": 13,
     "metadata": {},
     "output_type": "execute_result"
    }
   ],
   "source": [
    "1 + 1 # Raw values are printed directly. "
   ]
  },
  {
   "cell_type": "code",
   "execution_count": 14,
   "id": "a6a8d724",
   "metadata": {},
   "outputs": [
    {
     "data": {
      "text/plain": [
       "[1, 2, 3]"
      ]
     },
     "execution_count": 14,
     "metadata": {},
     "output_type": "execute_result"
    }
   ],
   "source": [
    "arr # This will cause an error at first. (Hint: try running the below cells first)"
   ]
  },
  {
   "cell_type": "code",
   "execution_count": 15,
   "id": "a47352eb",
   "metadata": {},
   "outputs": [],
   "source": [
    "arr = [1, 2, 3] # However assignments don't print"
   ]
  },
  {
   "cell_type": "code",
   "execution_count": 16,
   "id": "17f56802",
   "metadata": {},
   "outputs": [
    {
     "data": {
      "text/plain": [
       "[1, 2, 3]"
      ]
     },
     "execution_count": 16,
     "metadata": {},
     "output_type": "execute_result"
    }
   ],
   "source": [
    "arr # Variables are treated the same as values if no operation is done on them. (Notice variables are stored over all cells once the cell that defines the variable is ran)"
   ]
  },
  {
   "cell_type": "markdown",
   "id": "c20667dc",
   "metadata": {},
   "source": [
    "# This is a Markdown cell\n",
    "it has a lot of uses, mostly:\n",
    "- Easier explanations rather than comments\n",
    "- Displaying eqautions in proper mathematical form, like: $$J(\\theta) = \\frac{1}{2m}(X\\theta-y)^T(X\\theta-y)$$"
   ]
  }
 ],
 "metadata": {
  "kernelspec": {
   "display_name": "env",
   "language": "python",
   "name": "python3"
  },
  "language_info": {
   "codemirror_mode": {
    "name": "ipython",
    "version": 3
   },
   "file_extension": ".py",
   "mimetype": "text/x-python",
   "name": "python",
   "nbconvert_exporter": "python",
   "pygments_lexer": "ipython3",
   "version": "3.13.7"
  }
 },
 "nbformat": 4,
 "nbformat_minor": 5
}
