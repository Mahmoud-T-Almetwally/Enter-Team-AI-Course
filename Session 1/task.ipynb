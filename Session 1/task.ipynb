{
 "cells": [
  {
   "cell_type": "code",
   "execution_count": null,
   "id": "28e6fbc6",
   "metadata": {},
   "outputs": [],
   "source": [
    "import os\n",
    "got_right = 0\n",
    "try:\n",
    "    assert os.path.exists(\"../env\")\n",
    "    print(\"🟩 Passed: Created the Environment Successfully\")\n",
    "    got_right += 1\n",
    "except:\n",
    "    print(\"🔴 It seems you haven't created the Environment, ensure you created it and it is named: 'env'\")"
   ]
  },
  {
   "cell_type": "code",
   "execution_count": null,
   "id": "8aba7cd8",
   "metadata": {},
   "outputs": [],
   "source": [
    "try:\n",
    "    import numpy\n",
    "    print(\"🟩 Passed: Installed numpy Successfully\")\n",
    "    got_right += 1\n",
    "except:\n",
    "    print(\"🔴 It seems you haven't installed the package: numpy, maybe try activating the environment or installing it via 'pip install'\")"
   ]
  },
  {
   "cell_type": "code",
   "execution_count": null,
   "id": "38952c3f",
   "metadata": {},
   "outputs": [],
   "source": [
    "try:\n",
    "    import matplotlib\n",
    "    print(\"🟩 Passed: Installed matplotlib Successfully\")\n",
    "    got_right += 1\n",
    "except:\n",
    "    print(\"🔴 It seems you haven't installed the package: matplotlib, maybe try activating the environment or installing it via 'pip install'\")"
   ]
  },
  {
   "cell_type": "code",
   "execution_count": null,
   "id": "e8faecf8",
   "metadata": {},
   "outputs": [],
   "source": [
    "try:\n",
    "    import pandas\n",
    "    print(\"🟩 Passed: Installed pandas Successfully\")\n",
    "    got_right += 1\n",
    "except:\n",
    "    print(\"🔴 It seems you haven't installed the package: pandas, maybe try activating the environment or installing it via 'pip install'\")"
   ]
  },
  {
   "cell_type": "code",
   "execution_count": null,
   "id": "675c4c02",
   "metadata": {},
   "outputs": [],
   "source": [
    "try:\n",
    "    assert got_right == 4\n",
    "    print(f\"🟩 Task Completed successfully, you got {got_right} out of 4\")\n",
    "except:\n",
    "    print(f\"🔴 It seems you have failed some requirements, you got {got_right} out of 4\")"
   ]
  }
 ],
 "metadata": {
  "kernelspec": {
   "display_name": "env",
   "language": "python",
   "name": "python3"
  },
  "language_info": {
   "codemirror_mode": {
    "name": "ipython",
    "version": 3
   },
   "file_extension": ".py",
   "mimetype": "text/x-python",
   "name": "python",
   "nbconvert_exporter": "python",
   "pygments_lexer": "ipython3",
   "version": "3.13.7"
  }
 },
 "nbformat": 4,
 "nbformat_minor": 5
}
