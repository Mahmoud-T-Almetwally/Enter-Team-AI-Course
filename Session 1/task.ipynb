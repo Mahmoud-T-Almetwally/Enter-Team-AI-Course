{
 "cells": [
  {
   "cell_type": "code",
   "execution_count": null,
   "id": "28e6fbc6",
   "metadata": {},
   "outputs": [],
   "source": [
    "import sys\n",
    "\n",
    "sys.path.append(\"..\")\n",
    "\n",
    "try:\n",
    "    from assessment import task01\n",
    "except:\n",
    "    raise ImportError(\"Can't Import Assessment! Assessment Module Missing, ensure you have the complete code, or get it from: https://github.com/Mahmoud-T-Almetwally/Enter-Team-AI-Course.git\")"
   ]
  },
  {
   "cell_type": "markdown",
   "id": "910f1486",
   "metadata": {},
   "source": [
    "### Requirement 1: Create a Python Environment named \"env\""
   ]
  },
  {
   "cell_type": "code",
   "execution_count": null,
   "id": "8aba7cd8",
   "metadata": {},
   "outputs": [],
   "source": [
    "## Requirement 1: Check the Environment\n",
    "task01.check_env()"
   ]
  },
  {
   "cell_type": "markdown",
   "id": "edec88db",
   "metadata": {},
   "source": [
    "### Requirement 2: Install the Python package \"Numpy\", via the command 'pip install' (after activating the environment)"
   ]
  },
  {
   "cell_type": "code",
   "execution_count": null,
   "id": "38952c3f",
   "metadata": {},
   "outputs": [],
   "source": [
    "## Requirement 2: Check Numpy\n",
    "task01.check_numpy()"
   ]
  },
  {
   "cell_type": "markdown",
   "id": "4f6c5fc6",
   "metadata": {},
   "source": [
    "### Requirement 3: Install the Python package \"Pandas\""
   ]
  },
  {
   "cell_type": "code",
   "execution_count": null,
   "id": "e8faecf8",
   "metadata": {},
   "outputs": [],
   "source": [
    "## Requirement 3: Check Pandas\n",
    "task01.check_pandas()"
   ]
  },
  {
   "cell_type": "markdown",
   "id": "4b3bace8",
   "metadata": {},
   "source": [
    "### Requirement 4: Install the Python package \"Matplotlib\""
   ]
  },
  {
   "cell_type": "code",
   "execution_count": null,
   "id": "eb6cd39a",
   "metadata": {},
   "outputs": [],
   "source": [
    "## Requirement 4: Check Matplotlib\n",
    "task01.check_matplotlib()"
   ]
  },
  {
   "cell_type": "markdown",
   "id": "03b1f0d9",
   "metadata": {},
   "source": [
    "## Final: Run this cell to see how much you got right!"
   ]
  },
  {
   "cell_type": "code",
   "execution_count": null,
   "id": "675c4c02",
   "metadata": {},
   "outputs": [],
   "source": [
    "## Final: Check Passing\n",
    "task01.check_pass()"
   ]
  }
 ],
 "metadata": {
  "kernelspec": {
   "display_name": "env",
   "language": "python",
   "name": "python3"
  },
  "language_info": {
   "codemirror_mode": {
    "name": "ipython",
    "version": 3
   },
   "file_extension": ".py",
   "mimetype": "text/x-python",
   "name": "python",
   "nbconvert_exporter": "python",
   "pygments_lexer": "ipython3",
   "version": "3.13.7"
  }
 },
 "nbformat": 4,
 "nbformat_minor": 5
}
